{
  "nbformat": 4,
  "nbformat_minor": 0,
  "metadata": {
    "colab": {
      "provenance": [],
      "include_colab_link": true
    },
    "kernelspec": {
      "name": "python3",
      "display_name": "Python 3"
    },
    "language_info": {
      "name": "python"
    }
  },
  "cells": [
    {
      "cell_type": "markdown",
      "metadata": {
        "id": "view-in-github",
        "colab_type": "text"
      },
      "source": [
        "<a href=\"https://colab.research.google.com/github/essability/OEE-Designer/blob/master/Solution_Whisper_API_Working_with_Audio_files.ipynb\" target=\"_parent\"><img src=\"https://colab.research.google.com/assets/colab-badge.svg\" alt=\"Open In Colab\"/></a>"
      ]
    },
    {
      "cell_type": "markdown",
      "source": [
        "# Project 6: Automatic Voice Message Translation System\n",
        "\n",
        "In this innovative project, we're going to build a system that bridges language barriers: an automatic voice message translation system. Utilizing OpenAI's Whisper API for state-of-the-art speech-to-text capabilities and the ChatCompletion API for accurate text translation, we will create an end-to-end solution that can translate any voice message into a chosen language.\n",
        "\n",
        "## What You Will Learn\n",
        "\n",
        "- **Whisper API for Speech Recognition**: Master the use of OpenAI's Whisper API to convert speech from voice messages into text.\n",
        "- **ChatCompletion API for Translation**: Learn how to implement the ChatCompletion API to translate the transcribed text into the desired language.\n",
        "- **Audio File Handling**: Develop skills for processing audio files in various formats within the Google Colab environment.\n",
        "\n",
        "## Preparation Checklist\n",
        "\n",
        "Before we start, make sure you have the following:\n",
        "\n",
        "- An active Google Colab account.\n",
        "- Basic to intermediate knowledge of Python programming.\n",
        "- Familiarity with handling APIs and audio data.\n",
        "- Access to OpenAI API keys with permissions to use Whisper and ChatCompletion APIs ([OpenAI](https://platform.openai.com/account/api-keys)).\n",
        "\n",
        "## Time to Break Down Language Barriers\n",
        "\n",
        "Get ready to dive into the world of automatic translation. By the end of this project, you will be capable of turning voice messages from any language into text and then into another language of your choice, all within moments!\n",
        "\n"
      ],
      "metadata": {
        "id": "vUehOJlORE-j"
      }
    },
    {
      "cell_type": "markdown",
      "source": [
        "# 2. Libraries import"
      ],
      "metadata": {
        "id": "NDlbXftjSHdL"
      }
    },
    {
      "cell_type": "code",
      "source": [
        "!pip install openai"
      ],
      "metadata": {
        "colab": {
          "base_uri": "https://localhost:8080/"
        },
        "id": "KTBw517ySLF2",
        "outputId": "09b511f1-4d02-4b35-8ff5-db741eaa7f85"
      },
      "execution_count": null,
      "outputs": [
        {
          "output_type": "stream",
          "name": "stdout",
          "text": [
            "Collecting openai\n",
            "  Downloading openai-1.0.1-py3-none-any.whl (153 kB)\n",
            "\u001b[2K     \u001b[90m━━━━━━━━━━━━━━━━━━━━━━━━━━━━━━━━━━━━━━━━\u001b[0m \u001b[32m153.9/153.9 kB\u001b[0m \u001b[31m2.4 MB/s\u001b[0m eta \u001b[36m0:00:00\u001b[0m\n",
            "\u001b[?25hRequirement already satisfied: anyio<4,>=3.5.0 in /usr/local/lib/python3.10/dist-packages (from openai) (3.7.1)\n",
            "Requirement already satisfied: distro<2,>=1.7.0 in /usr/lib/python3/dist-packages (from openai) (1.7.0)\n",
            "Collecting httpx<1,>=0.23.0 (from openai)\n",
            "  Downloading httpx-0.25.1-py3-none-any.whl (75 kB)\n",
            "\u001b[2K     \u001b[90m━━━━━━━━━━━━━━━━━━━━━━━━━━━━━━━━━━━━━━━━\u001b[0m \u001b[32m75.0/75.0 kB\u001b[0m \u001b[31m6.6 MB/s\u001b[0m eta \u001b[36m0:00:00\u001b[0m\n",
            "\u001b[?25hRequirement already satisfied: pydantic<3,>=1.9.0 in /usr/local/lib/python3.10/dist-packages (from openai) (1.10.13)\n",
            "Requirement already satisfied: tqdm>4 in /usr/local/lib/python3.10/dist-packages (from openai) (4.66.1)\n",
            "Requirement already satisfied: typing-extensions<5,>=4.5 in /usr/local/lib/python3.10/dist-packages (from openai) (4.5.0)\n",
            "Requirement already satisfied: idna>=2.8 in /usr/local/lib/python3.10/dist-packages (from anyio<4,>=3.5.0->openai) (3.4)\n",
            "Requirement already satisfied: sniffio>=1.1 in /usr/local/lib/python3.10/dist-packages (from anyio<4,>=3.5.0->openai) (1.3.0)\n",
            "Requirement already satisfied: exceptiongroup in /usr/local/lib/python3.10/dist-packages (from anyio<4,>=3.5.0->openai) (1.1.3)\n",
            "Requirement already satisfied: certifi in /usr/local/lib/python3.10/dist-packages (from httpx<1,>=0.23.0->openai) (2023.7.22)\n",
            "Collecting httpcore (from httpx<1,>=0.23.0->openai)\n",
            "  Downloading httpcore-1.0.1-py3-none-any.whl (76 kB)\n",
            "\u001b[2K     \u001b[90m━━━━━━━━━━━━━━━━━━━━━━━━━━━━━━━━━━━━━━━━\u001b[0m \u001b[32m76.9/76.9 kB\u001b[0m \u001b[31m7.0 MB/s\u001b[0m eta \u001b[36m0:00:00\u001b[0m\n",
            "\u001b[?25hCollecting h11<0.15,>=0.13 (from httpcore->httpx<1,>=0.23.0->openai)\n",
            "  Downloading h11-0.14.0-py3-none-any.whl (58 kB)\n",
            "\u001b[2K     \u001b[90m━━━━━━━━━━━━━━━━━━━━━━━━━━━━━━━━━━━━━━━━\u001b[0m \u001b[32m58.3/58.3 kB\u001b[0m \u001b[31m6.0 MB/s\u001b[0m eta \u001b[36m0:00:00\u001b[0m\n",
            "\u001b[?25hInstalling collected packages: h11, httpcore, httpx, openai\n",
            "\u001b[31mERROR: pip's dependency resolver does not currently take into account all the packages that are installed. This behaviour is the source of the following dependency conflicts.\n",
            "llmx 0.0.15a0 requires cohere, which is not installed.\n",
            "llmx 0.0.15a0 requires tiktoken, which is not installed.\u001b[0m\u001b[31m\n",
            "\u001b[0mSuccessfully installed h11-0.14.0 httpcore-1.0.1 httpx-0.25.1 openai-1.0.1\n"
          ]
        }
      ]
    },
    {
      "cell_type": "code",
      "execution_count": null,
      "metadata": {
        "id": "lYFNyycCQ2p-"
      },
      "outputs": [],
      "source": [
        "import os\n",
        "import openai\n",
        "\n",
        "from openai import OpenAI"
      ]
    },
    {
      "cell_type": "markdown",
      "source": [
        "# 3. Sending a first request to OpenAI API\n",
        "\n",
        "\n",
        "### 3.1 Setting up API Key"
      ],
      "metadata": {
        "id": "TwaQS_nXSQxf"
      }
    },
    {
      "cell_type": "code",
      "source": [
        "os.environ[\"OPENAI_API_KEY\"] = \"sk-XXXXXXXXXXXXX\"\n",
        "client = OpenAI()"
      ],
      "metadata": {
        "id": "btc16h6ySPFA"
      },
      "execution_count": null,
      "outputs": []
    },
    {
      "cell_type": "markdown",
      "source": [
        "# 4. Processing Audio files with Whisper"
      ],
      "metadata": {
        "id": "9_OjVDWsUe4n"
      }
    },
    {
      "cell_type": "code",
      "source": [
        "audio_file = open(\"audio_file_whisper.mp3\", \"rb\")\n",
        "\n",
        "transcript = client.audio.transcriptions.create(\n",
        "  model=\"whisper-1\",\n",
        "  file=audio_file,\n",
        "  response_format='vtt'\n",
        ")"
      ],
      "metadata": {
        "id": "MsoHQlVsSywU"
      },
      "execution_count": null,
      "outputs": []
    },
    {
      "cell_type": "code",
      "source": [
        "print(transcript)"
      ],
      "metadata": {
        "colab": {
          "base_uri": "https://localhost:8080/"
        },
        "id": "bIrZ8nmPX4u3",
        "outputId": "325ac710-9264-4bf8-d651-48a01889c4c8"
      },
      "execution_count": null,
      "outputs": [
        {
          "output_type": "stream",
          "name": "stdout",
          "text": [
            "WEBVTT\n",
            "\n",
            "00:00:00.000 --> 00:00:07.280\n",
            "I had this scenario where I was on an elevator with a senior EVP that I admire in a Fortune 500\n",
            "\n",
            "00:00:07.280 --> 00:00:12.400\n",
            "company I work at. I feel like I present myself well during the quick interaction. My question\n",
            "\n",
            "00:00:12.400 --> 00:00:17.600\n",
            "for you is, in a hypothetical situation, if you're on the elevator with a senior executive\n",
            "\n",
            "00:00:17.600 --> 00:00:22.240\n",
            "and you're one-on-one with him, how do you present yourself to them? What is your pitch? Yeah,\n",
            "\n",
            "00:00:22.800 --> 00:00:27.440\n",
            "this is a great question. So I remember when I used to work at Goldman Sachs years ago,\n",
            "\n",
            "00:00:27.440 --> 00:00:31.920\n",
            "I get nervous when I was in an elevator and there's a senior executive there. I remember\n",
            "\n",
            "00:00:31.920 --> 00:00:37.600\n",
            "one day there was this guy named Bob Steele, who was executive vice chairman of the firm at the\n",
            "\n",
            "00:00:37.600 --> 00:00:40.640\n",
            "time. And I was in the elevator with him and there's somebody else there too and I didn't\n",
            "\n",
            "00:00:40.640 --> 00:00:45.440\n",
            "know what to say. And so I said, beautiful day, isn't it? Right? And he kind of looked at me like,\n",
            "\n",
            "00:00:47.520 --> 00:00:52.560\n",
            "and they lose respect for you when you're, when you don't act yourself. Okay. So just kind of,\n",
            "\n",
            "00:00:52.560 --> 00:00:55.920\n",
            "I don't know, be yourself. You can just say something like, hey, how you doing? You see\n",
            "\n",
            "00:00:55.920 --> 00:01:00.800\n",
            "the game last night, whatever it is. Don't be uptight like I was. Okay. Because I remember\n",
            "\n",
            "00:01:00.800 --> 00:01:05.040\n",
            "after the elevator ride at One New York Plaza from the 49th floor down to the first floor,\n",
            "\n",
            "00:01:05.040 --> 00:01:10.400\n",
            "which felt like forever, after the elevator ride, I asked myself, did I sound smart?\n",
            "\n",
            "00:01:11.280 --> 00:01:17.200\n",
            "Did I say something? Did that help my career or not? And it was ridiculous. It was ridiculous.\n",
            "\n",
            "00:01:17.200 --> 00:01:22.080\n",
            "And I think he probably lost a little bit of respect for me as well. So you just got to be\n",
            "\n",
            "00:01:22.080 --> 00:01:26.640\n",
            "yourself and other people around you, like your colleagues, if they see that you're not yourself,\n",
            "\n",
            "00:01:26.640 --> 00:01:31.760\n",
            "they'll lose respect for you as well. So just pretend that this person is your aunt or uncle\n",
            "\n",
            "00:01:31.760 --> 00:01:37.760\n",
            "you haven't seen in a while. Just be yourself. Just be laid back, you know? Because as Dr.\n",
            "\n",
            "00:01:37.760 --> 00:01:42.720\n",
            "Sue said, those who mind don't matter and those who matter don't mind. Be you. Everybody else\n",
            "\n",
            "00:01:42.720 --> 00:01:47.840\n",
            "is taken. Yeah. And when you go to an interview as well, and I remember I went on this streak\n",
            "\n",
            "00:01:47.840 --> 00:01:53.040\n",
            "where I couldn't get a job for a while and I prepared like crazy for interviews. And I just\n",
            "\n",
            "00:01:53.040 --> 00:01:57.200\n",
            "wasn't myself. It was kind of robotic, you know, like Mark Zuckerberg testifying in front of\n",
            "\n",
            "00:01:57.200 --> 00:02:03.440\n",
            "Congress. That's how he laughs. Yeah. I wasn't myself and I couldn't get a job, man. And so I\n",
            "\n",
            "00:02:03.440 --> 00:02:08.960\n",
            "went to an interview finally, and I was like, I don't really care if I get this job. And I was\n",
            "\n",
            "00:02:08.960 --> 00:02:15.040\n",
            "just myself. And, you know, we talked about the weather, we talked about sports, and I ended up\n",
            "\n",
            "00:02:15.040 --> 00:02:19.680\n",
            "getting that job. I'm not telling you to be rude or disingenuous or too laid back, but just, you\n",
            "\n",
            "00:02:19.680 --> 00:02:24.160\n",
            "know, be yourself. Just chill out and don't worry about it. I promise you it works. And one little\n",
            "\n",
            "00:02:24.160 --> 00:02:30.000\n",
            "tip I have before you do an informational meeting or an interview with anybody is I want you to go\n",
            "\n",
            "00:02:30.000 --> 00:02:36.400\n",
            "to their Twitter profile, okay? And I want you to see, you know, what are their interests? You know,\n",
            "\n",
            "00:02:36.400 --> 00:02:41.600\n",
            "if they love baseball, you can talk about baseball in the meeting. You know, sports is great boardroom\n",
            "\n",
            "00:02:41.600 --> 00:02:46.880\n",
            "talk because you can spark up a conversation based on any city in the world with any sport\n",
            "\n",
            "00:02:46.880 --> 00:02:51.280\n",
            "you're passionate about. And what I did years ago in the hedge fund industry, and this is crazy,\n",
            "\n",
            "00:02:52.080 --> 00:02:57.360\n",
            "but there was this guy that I was interviewing with, and he was a massive New York Rangers hockey\n",
            "\n",
            "00:02:57.360 --> 00:03:03.840\n",
            "fan. And so what I did on my Nintendo GameCube in 2002, before I interviewed with him, was I bought\n",
            "\n",
            "00:03:03.840 --> 00:03:08.480\n",
            "this NHL game and I played as the Rangers for a while, just so I can kind of understand a little\n",
            "\n",
            "00:03:08.480 --> 00:03:12.560\n",
            "bit more about the team. A little bit crazy, I know. The bottom line is this, and I'm rambling,\n",
            "\n",
            "00:03:12.560 --> 00:03:17.840\n",
            "I know. The bottom line is that if before your informational meeting, go to somebody's Twitter\n",
            "\n",
            "00:03:17.840 --> 00:03:22.240\n",
            "profile so you can find out what their interests are because you'll never get that second chance\n",
            "\n",
            "00:03:22.240 --> 00:03:26.160\n",
            "to make a great first impression. And that's a cheesy quote from an old head and shoulders\n",
            "\n",
            "00:03:26.160 --> 00:03:30.000\n",
            "commercials from the 80s. But you got to bond before business. You'll never get that chance\n",
            "\n",
            "00:03:30.000 --> 00:03:35.120\n",
            "again. Don't ever go to a meeting and talk business right away. Just be you. You do you. You be you.\n",
            "\n",
            "\n"
          ]
        }
      ]
    },
    {
      "cell_type": "markdown",
      "source": [
        "## Audio transcription"
      ],
      "metadata": {
        "id": "_Clc8Jk0TTt3"
      }
    },
    {
      "cell_type": "code",
      "source": [
        "audio_file = open(\"audio_file_whisper.mp3\", \"rb\")\n",
        "\n",
        "transcript_translated = client.audio.translations.create(\n",
        "  model=\"whisper-1\",\n",
        "  file=audio_file\n",
        ")"
      ],
      "metadata": {
        "id": "9wFnlLoNZAJK"
      },
      "execution_count": null,
      "outputs": []
    },
    {
      "cell_type": "code",
      "source": [
        "transcript_translated.text"
      ],
      "metadata": {
        "colab": {
          "base_uri": "https://localhost:8080/",
          "height": 226
        },
        "id": "6euuSZWeRavf",
        "outputId": "a5e1a2cf-1839-41b8-e8ba-fe5ea1e48a01"
      },
      "execution_count": null,
      "outputs": [
        {
          "output_type": "execute_result",
          "data": {
            "text/plain": [
              "\"I had this scenario where I was on an elevator with a senior EVP that I admire in a Fortune 500 company I work at. I feel like I present myself well during the quick interaction. My question for you is, in a hypothetical situation, if you're on the elevator with a senior executive and you're one-on-one with him, how do you present yourself to them? What is your pitch? Yeah, this is a great question. So I remember when I used to work at Goldman Sachs years ago, I get nervous when I was in an elevator and there's a senior executive there. I remember one day there was this guy named Bob Steele, who was executive vice chairman of the firm at the time. And I was in the elevator with him and there's somebody else there too, and I didn't know what to say. And so I said, beautiful day, isn't it? Right? And he kind of looked at me like, and they lose respect for you when you're, when you don't act yourself. Okay. So just kind of, I don't know, be yourself. You can just say something like, hey, how you doing? You see the game last night, whatever it is. Don't be uptight like I was. Okay. Because I remember after the elevator ride at One New York Plaza from the 49th floor down to the first floor, which felt like forever, after the elevator ride, I asked myself, did I sound smart? Did I say something? Did that help my career or not? And it was ridiculous. It was ridiculous. And I think he probably lost a little bit of respect for me as well. So you just got to be yourself and other people around you, like your colleagues, if they see that you're not yourself, they'll lose respect for you as well. So just pretend that this person is your aunt or uncle you haven't seen in a while. Just be yourself. Just be laid back, you know? Because as Dr. Sue said, those who mind don't matter. And those who matter don't mind. Be you. Everybody else is taken. Yeah. And when you go to an interview as well, and I remember I went on this streak where I couldn't get a job for a while. And I prepared like crazy for interviews. And I just wasn't myself. It was kind of robotic. You know, like Mark Zuckerberg testifying in front of Congress. That's how he laughs. Yeah. I wasn't myself. And I couldn't get a job, man. And so I went to an interview finally. And I was like, I don't really care if I get this job. And I was just myself. And, you know, we talked about the weather. We talked about sports. And I ended up getting that job. I'm not telling you to be rude or disingenuous or too laid back, but just, you know, be yourself. Just chill out and don't worry about it. I promise you it works. And one little tip I have before you do an informational meeting or an interview with anybody is I want you to go to their Twitter profile. Okay. And I want you to see, you know, what are their interests? You know, if they love baseball, you could talk about baseball in the meeting. You know, sports is great boardroom talk because you can spark up a conversation based on any city in the world with any sport you're passionate about. And what I did years ago in the hedge fund industry, and this is crazy, but there was this guy that I was interviewing with and he was a massive New York Rangers hockey fan. And so what I did on my Nintendo GameCube in 2002 before I interviewed with him was I bought this NHL game and I played as the Rangers for a while, just so I can kind of understand a little bit more about the team. A little bit crazy, I know. The bottom line is this, and I'm rambling, I know. The bottom line is that if before your informational meeting, go to somebody's Twitter profile so you can find out what their interests are because you'll never get that second chance to make a great first impression. And that's a cheesy quote from an old head and shoulders commercials from the 80s. But you got to bond before business. You'll never get that chance again. Don't ever go to a meeting and talk business right away. Just be you. You do you. You be you.\""
            ],
            "application/vnd.google.colaboratory.intrinsic+json": {
              "type": "string"
            }
          },
          "metadata": {},
          "execution_count": 13
        }
      ]
    },
    {
      "cell_type": "markdown",
      "source": [
        "## Translating to any language using ChatGPT and Whisper\n",
        "\n"
      ],
      "metadata": {
        "id": "mzr2K30GUbUN"
      }
    },
    {
      "cell_type": "code",
      "source": [
        "target_language = \"serbian\"\n",
        "messages = [{\"role\": \"system\", \"content\": \"\"\"I want you to act as an algorithm for translation to language {}. Systep will provide you with a text, and your only task is to translate it to {}. Never break character.\"\"\".format(target_language, target_language)}]\n",
        "messages.append({\"role\": \"user\", \"content\": transcript_translated.text})\n",
        "\n",
        "# NOTE: This model might be changed or depreicated in the future, use the most updated one :)\n",
        "chat_response = client.chat.completions.create(\n",
        "    model=\"gpt-3.5-turbo\",\n",
        "    messages=messages,\n",
        "    temperature=0.9,\n",
        "    max_tokens=2000,\n",
        ")"
      ],
      "metadata": {
        "id": "CtAclzsPT3Ho"
      },
      "execution_count": null,
      "outputs": []
    },
    {
      "cell_type": "code",
      "source": [
        "print(\"Assistant:\", chat_response.choices[0].message.content)"
      ],
      "metadata": {
        "colab": {
          "base_uri": "https://localhost:8080/"
        },
        "id": "D3AglPCLR1_x",
        "outputId": "848137aa-0d1e-484c-c595-fc1277b70379"
      },
      "execution_count": null,
      "outputs": [
        {
          "output_type": "stream",
          "name": "stdout",
          "text": [
            "Assistant: Imao sam ovu situaciju gde sam se našao u liftu sa starijim izvršnim potpredsednikom koga veoma cenim u kompaniji Fortune 500 u kojoj radim. Osećam da sam se dobro predstavio tokom kratke interakcije. Moje pitanje za vas je, u hipotetičkoj situaciji, ako ste sami sa izvršnim direktorom u liftu, kako biste se predstavili? Šta biste rekli? Da, ovo je odlično pitanje. Sećam se kada sam nekada radio u Goldman Sachs pre mnogo godina, bilo me je nervozno kada bih bio u liftu sa nekim starijim izvršnim. Sećam se jednog dana kada sam bio u liftu sa čovekom po imenu Bob Stil, koji je tada bio izvršni potpredsednik kompanije. Tu je bio i neko drugi i nisam znao šta da kažem. Tako sam rekao, lep dan, zar ne? I on me je pogledao tako... i gubiš poštovanje kada se ne ponašaš svojstveno. Dakle, samo, ne znam, budi svoj. Možeš jednostavno reći nešto poput, \"Hej, kako si? Jeste li videli utakmicu sinoć?\" Što god. Nemoj biti napet kao što sam bio ja. Onda ćete se zapitati posle vožnje liftom od 49. do prvog sprata u zgradi One New York Plaza, što je trajalo kao večnost, pitao sam se, da li sam zvučao pametno? Jesam li nešto rekao? Da li je to pomoglo mojoj karijeri ili ne? I to je bilo smešno. Bilo je smešno. I mislim da je on verovatno izgubio malo poštovanja prema meni. Dakle, samo morate biti svoji, a drugi ljudi oko vas, poput kolega, izgubiće poštovanje prema vama ako vide da se ne ponašate kao svoji. Dakle, samo se pretvarajte da je ova osoba vaša tetka ili ujak koga niste videli neko vreme. Samo budi svoj. Opusti se, znate? Kako je doktor Su rekao, oni koji se brinu, ne važi, a oni kojima važite, ne brinu. Budi ti. Svi ostali su već zauzeti. Da. I kada idete na razgovor za posao, sećam se da sam prošao kroz period kada nisam mogao da nađem posao neko vreme. I pripremao sam se kao ludi za razgovore. Ali nisam bio svoj. Bilo je poput robota. Znate, kao Mark Zakerberg dok svedoči pred Kongresom. Tako se smeje. Da. Nisam bio svoj. I nisam mogao da dobijem posao, čoveče. A onda sam konačno otišao na razgovor za posao i rekao sam sebi, baš me briga da li ću dobiti ovaj posao. I jednostavno sam bio svoj. I pričali smo o vremenu, pričali smo o sportu. I na kraju sam dobio taj posao. Ne govorim vam da budete bezobrazni ili neiskreni, ili previše opušteni, ali samo, znate, budite svoji. Samo se opustite i ne brinite o tome. Obećavam vam, to funkcioniše. I imam još jedan mali savet pre nego što imate informativni sastanak ili razgovor sa bilo kim. Želim da odete na njihov Twitter profil, u redu? I želim da vidite, znate, šta su njihovi interesi. Ako vole bejzbol, možete pričati o bejzbolu na sastanku. Sport je odlična tema za razgovor u kancelariji, jer možete pokrenuti razgovor na osnovu bilo kog grada u svetu, sa bilo kojim sportom za koji ste zainteresovani. I sećam se da sam pre mnogo godina, kada sam radio u industriji hedž fondova, uradio nešto neverovatno. Sastajao sam se sa ovim čovekom na razgovoru i bio je ogroman navijač Njujork Rejndžersa, hokej tima. I zato sam na svom Nintendo GameCube-u 2002. godine pre razgovora kupio tu NHL igricu i igrao sam kao Rejndžersi neko vreme, samo da bih malo bolje razumeo tim. Malo ludo, znam. Sve u svemu, iako brbljam, suština je sledeća: ako pre informativnog sastanka odete na nečiji Twitter profil, možete saznati šta su njihovi interesi, jer nikada nećete dobiti drugu šansu da ostavite sjajan prvi utisak. I to je kliše citat iz starijih reklama za Head & Shoulders iz osamdesetih godina. Ali morate da uspostavite vezu pre nego što se pređe na poslovne teme. Nikada ne pričajte o poslu odmah. Samo budite svoji. Budi svoj.\n"
          ]
        }
      ]
    },
    {
      "cell_type": "code",
      "source": [],
      "metadata": {
        "id": "kIb1xtNFSUAP"
      },
      "execution_count": null,
      "outputs": []
    }
  ]
}